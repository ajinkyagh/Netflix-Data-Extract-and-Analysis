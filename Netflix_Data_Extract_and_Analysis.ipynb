{
  "nbformat": 4,
  "nbformat_minor": 0,
  "metadata": {
    "colab": {
      "provenance": [],
      "authorship_tag": "ABX9TyPdsHtRlSuLzyB/8RWSmyHV",
      "include_colab_link": true
    },
    "kernelspec": {
      "name": "python3",
      "display_name": "Python 3"
    },
    "language_info": {
      "name": "python"
    }
  },
  "cells": [
    {
      "cell_type": "markdown",
      "metadata": {
        "id": "view-in-github",
        "colab_type": "text"
      },
      "source": [
        "<a href=\"https://colab.research.google.com/github/ajinkyagh/Netflix-Data-Extract-and-Analysis/blob/main/Netflix_Data_Extract_and_Analysis.ipynb\" target=\"_parent\"><img src=\"https://colab.research.google.com/assets/colab-badge.svg\" alt=\"Open In Colab\"/></a>"
      ]
    },
    {
      "cell_type": "code",
      "execution_count": 6,
      "metadata": {
        "colab": {
          "base_uri": "https://localhost:8080/"
        },
        "id": "B5fs6kdKIxC2",
        "outputId": "a2fe4dae-708d-4d68-87a6-20147ecfbbf0"
      },
      "outputs": [
        {
          "output_type": "stream",
          "name": "stdout",
          "text": [
            "Drive already mounted at /content/gdrive; to attempt to forcibly remount, call drive.mount(\"/content/gdrive\", force_remount=True).\n"
          ]
        }
      ],
      "source": [
        "import pandas as pd\n",
        "from google.colab import drive\n",
        "drive.mount('/content/gdrive')\n",
        "\n",
        "# Load\n",
        "df = pd.read_csv('/content/gdrive/My Drive/Colab Notebooks/Netflix Project/netflix_titles.csv')"
      ]
    },
    {
      "cell_type": "code",
      "source": [
        "import sqlalchemy as sal"
      ],
      "metadata": {
        "id": "-lc9jpM4KINS"
      },
      "execution_count": 7,
      "outputs": []
    },
    {
      "cell_type": "code",
      "source": [
        "engine = sal.create_engine('sqlite:///my_database.db')\n",
        "conn = engine.connect()"
      ],
      "metadata": {
        "id": "065OL_iFLgrR"
      },
      "execution_count": 11,
      "outputs": []
    },
    {
      "cell_type": "code",
      "source": [
        "df.to_sql('netflix_raw', con=conn, index=False, if_exists='replace')\n",
        "conn.close()"
      ],
      "metadata": {
        "id": "nQaPeOzWLuSd"
      },
      "execution_count": 12,
      "outputs": []
    },
    {
      "cell_type": "code",
      "source": [],
      "metadata": {
        "id": "DH_XAi4jMUPE"
      },
      "execution_count": null,
      "outputs": []
    }
  ]
}